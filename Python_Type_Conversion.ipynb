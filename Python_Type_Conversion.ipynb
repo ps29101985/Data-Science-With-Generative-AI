{
  "nbformat": 4,
  "nbformat_minor": 0,
  "metadata": {
    "colab": {
      "provenance": []
    },
    "kernelspec": {
      "name": "python3",
      "display_name": "Python 3"
    },
    "language_info": {
      "name": "python"
    }
  },
  "cells": [
    {
      "cell_type": "code",
      "execution_count": null,
      "metadata": {
        "id": "mtmSsTGh4B75"
      },
      "outputs": [],
      "source": [
        "#1.Convert an integer to a Floating-point number\n",
        "integer=10\n",
        "floating_number=float(integer)\n",
        "print(floating_number)\n",
        "type(floating_number)"
      ]
    },
    {
      "cell_type": "code",
      "source": [
        "#2. Convert a float to an interger\n",
        "floating_number=4.5\n",
        "integer=int(floating_number)\n",
        "print(integer)\n",
        "type(integer)"
      ],
      "metadata": {
        "id": "gNDn_zIx5en0"
      },
      "execution_count": null,
      "outputs": []
    },
    {
      "cell_type": "code",
      "source": [
        "#3. Convert an integer to a string\n",
        "integer=5\n",
        "string=str(integer)\n",
        "print(string)\n",
        "type(string)"
      ],
      "metadata": {
        "id": "xbUNxPIV9F7V"
      },
      "execution_count": null,
      "outputs": []
    },
    {
      "cell_type": "code",
      "source": [
        "# 4. Convert a list to a tuple\n",
        "List=[1,2,\"a\",\"a+bj\",\"Pin2\",True]\n",
        "Tuple=tuple(List)\n",
        "print(Tuple)\n",
        "type(Tuple)"
      ],
      "metadata": {
        "id": "EAlNCiIW-dw6"
      },
      "execution_count": null,
      "outputs": []
    },
    {
      "cell_type": "code",
      "source": [
        "# 5. Convert a tuple to a list\n",
        "Tuple=(29,10,1985,\"Pin2\")\n",
        "List=list(Tuple)\n",
        "print(List)\n",
        "type(List)"
      ],
      "metadata": {
        "id": "lcepDvVFBF4F"
      },
      "execution_count": null,
      "outputs": []
    },
    {
      "cell_type": "code",
      "source": [
        "# 6. Convert a decimal number to binary\n",
        "Decimal_Number=7\n",
        "Binary_Number=bin(Decimal_Number)\n",
        "print(Binary_Number)\n",
        "type(Binary_Number)"
      ],
      "metadata": {
        "id": "0rEHc3vpByDh"
      },
      "execution_count": null,
      "outputs": []
    },
    {
      "cell_type": "code",
      "source": [
        "# 7. Convert a non-zero number to boolean\n",
        "Number=8\n",
        "Boolean_Number=bool(Number)\n",
        "print(Boolean_Number)\n",
        "type(Boolean_Number)"
      ],
      "metadata": {
        "id": "C3ZX_XG7ByLD"
      },
      "execution_count": null,
      "outputs": []
    }
  ]
}