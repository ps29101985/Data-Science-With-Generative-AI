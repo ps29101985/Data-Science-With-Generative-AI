{
  "nbformat": 4,
  "nbformat_minor": 0,
  "metadata": {
    "colab": {
      "provenance": []
    },
    "kernelspec": {
      "name": "python3",
      "display_name": "Python 3"
    },
    "language_info": {
      "name": "python"
    }
  },
  "cells": [
    {
      "cell_type": "code",
      "execution_count": null,
      "metadata": {
        "id": "DzeqN2LZs1Co"
      },
      "outputs": [],
      "source": [
        "# 1. Calculate the sum, difference, product, and quotient of two numbers.\n",
        "Number_1=float(input(\"Enter the first number:\"))\n",
        "Number_2=float(input(\"Enter the second number:\"))\n",
        "\n",
        "Sum=Number_1+Number_2\n",
        "Difference=Number_1-Number_2\n",
        "Product=Number_1*Number_2\n",
        "Quotient=Number_1/Number_2\n",
        "print(Sum)\n",
        "print(Difference)\n",
        "print(Product)\n",
        "print(Quotient)\n"
      ]
    },
    {
      "cell_type": "code",
      "source": [
        "# 2. Perform Various assignment operations on a Variable.\n",
        "a=7 # Assigning \"a\" with value 7\n",
        "a+=5 # Adding 5 with \"a\" and assigning it to \"a\" again\n",
        "print(a) # Result\n",
        "b=7  # Assigning \"b\" with value 7\n",
        "b*=5 #  Multiplying \"b\" with 5 and assigning it to \"b\" again\n",
        "print(b) # Result\n",
        "c=7 # Assigning \"c\" with value 7\n",
        "c-=5 # Substracting \"c\" with 5 and assigning it to \"c\" again\n",
        "print(c) # Result\n",
        "d=7 # Assigning \"d\" with value 7\n",
        "d/=5 # Dividing \"d\" with 5 and assigning it to \"d\" again\n",
        "print(d) # Result\n",
        "e=7 # Assigning \"e\" with value 7\n",
        "e%=5 # Finding e modulus 5 and assigning it to \"e\" again\n",
        "print(e) # Result\n",
        "f=7 # Assigning \"f\" with value 7\n",
        "f**=5 # Finding f Exponential 5 and assigning it to \"f\" again\n",
        "print(f) # Result\n"
      ],
      "metadata": {
        "id": "Ge6Igl8LtIPF"
      },
      "execution_count": null,
      "outputs": []
    },
    {
      "cell_type": "code",
      "source": [
        "# 3. Compare two numbers and print the results.\n",
        "a=5\n",
        "b=6\n",
        "Result1=a==b # To Check if their face values  are equal\n",
        "Result2=a>b # To check if face value of \"a\" is greater than that of \"b\"\n",
        "Result3=a<b # To check if face value of \"a\" is less than that of \"b\"\n",
        "Result4=a>=b # To check if face value of \"a\" is greater than or equal to that of \"b\"\n",
        "Result5=a<=b # To check if face value of \"a\" is less than or equal to that of \"b\"\n",
        "Result6=a!=b # To check if face value of \"a\" is not equal to that of \"b\"\n",
        "print(Result1)\n",
        "print(Result2)\n",
        "print(Result3)\n",
        "print(Result4)\n",
        "print(Result5)\n",
        "print(Result6)\n"
      ],
      "metadata": {
        "id": "IX5C7ccQtMBj"
      },
      "execution_count": null,
      "outputs": []
    },
    {
      "cell_type": "code",
      "source": [
        "# 4. Check conditions Using logical operators.\n",
        "a=6\n",
        "b=9\n",
        "Test1= a>7 and b>7  # To check if both the conditions are satisfied together\n",
        "print(Test1)\n",
        "\n",
        "Test2= a>7 or b>7 # To check if any one of the condition is satisfied\n",
        "print(Test2)\n",
        "\n",
        "Test3= not(a>7 and b>7) # To check the condition using \"not\" operator\n",
        "print(Test3)"
      ],
      "metadata": {
        "id": "wCIiZKcDuLFR"
      },
      "execution_count": null,
      "outputs": []
    },
    {
      "cell_type": "code",
      "source": [
        "# 5. Check the identity of Variables.\n",
        "a=6\n",
        "b=4\n",
        "c=6\n",
        "Check_1= a is b # To check if variables a and b have same memory location\n",
        "Check_2= a is c # To check if variables a and c have same memory location\n",
        "Check_3= b is not c # To check if variables b and c have different memory location\n",
        "print(Check_1)\n",
        "print(Check_2)\n",
        "print(Check_3)"
      ],
      "metadata": {
        "id": "pfpREdLT14mw"
      },
      "execution_count": null,
      "outputs": []
    },
    {
      "cell_type": "code",
      "source": [
        "# 6.  Perform bitwise operations on any two integers.\n",
        "a=18\n",
        "b=3\n",
        "Bitwise_and=a&b  # Bitwise \"and\" operation\n",
        "print(Bitwise_and)\n",
        "Bitwise_or=a|b # Bitwise \"or\" operation\n",
        "print(Bitwise_or)\n",
        "Bitwise_Tilde=~a #Bitwise \"Tilde\" operation\n",
        "print(Bitwise_Tilde)\n",
        "Bitwise_XOR=a^b  #Bitwise \"XOR\" operation\n",
        "print(Bitwise_XOR)\n",
        "Bitwise_Left_Shift=a<<b # Bitwise Left Shift operation\n",
        "print(Bitwise_Left_Shift)\n",
        "Bitwise_Right_Shift=a>>b  # Bitwise Right Shift operation\n",
        "print(Bitwise_Right_Shift)"
      ],
      "metadata": {
        "id": "GfujBMXB4K59"
      },
      "execution_count": null,
      "outputs": []
    },
    {
      "cell_type": "code",
      "source": [
        " # 7. Use Unary operators to change the sign of a number.\n",
        " a=5\n",
        " a=-a  # Used \"-\" Unary operator to change the sign\n",
        " print(a)\n",
        " b=-6\n",
        " b=-b  # Used \"-\" Unary operator to change the sign\n",
        " print(b)"
      ],
      "metadata": {
        "id": "uvDfE0oj9DdC"
      },
      "execution_count": null,
      "outputs": []
    },
    {
      "cell_type": "code",
      "source": [
        "# 8. Use the ternary operator to assign values based on conditions.\n",
        "a=float(input(\"Enter the number:\"))\n",
        "Ternary_1= \"Even\" if a%2==0 else \"Odd\"\n",
        "print(Ternary_1)"
      ],
      "metadata": {
        "id": "Bh3MQa8M_ueD"
      },
      "execution_count": null,
      "outputs": []
    }
  ]
}